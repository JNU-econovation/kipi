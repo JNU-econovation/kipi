{
 "cells": [
  {
   "cell_type": "code",
   "execution_count": 10,
   "metadata": {},
   "outputs": [
    {
     "name": "stdout",
     "output_type": "stream",
     "text": [
      "/Volumes/My Book/documents/econovation/kipi/weatherDataMaking\n"
     ]
    }
   ],
   "source": [
    "cd ../"
   ]
  },
  {
   "cell_type": "code",
   "execution_count": 11,
   "metadata": {},
   "outputs": [
    {
     "name": "stdout",
     "output_type": "stream",
     "text": [
      "/Volumes/My Book/documents/econovation/kipi/weatherDataMaking\n"
     ]
    }
   ],
   "source": [
    "!pwd"
   ]
  },
  {
   "cell_type": "code",
   "execution_count": 15,
   "metadata": {},
   "outputs": [
    {
     "name": "stdout",
     "output_type": "stream",
     "text": [
      "젠더리스 is done..!\n",
      "스포티 is done..!\n",
      "기타 is done..!\n",
      "컨트리 is done..!\n",
      "밀리터리 is done..!\n",
      "섹시 is done..!\n",
      "히피 is done..!\n",
      "소피스트케이티드 is done..!\n",
      "힙합 is done..!\n",
      "레트로 is done..!\n",
      "매니시 is done..!\n",
      "키치 is done..!\n",
      "리조트 is done..!\n",
      "페미닌 is done..!\n",
      "톰보이 is done..!\n",
      "웨스턴 is done..!\n",
      "모던 is done..!\n",
      "스트리트 is done..!\n",
      "프레피 is done..!\n",
      "오리엔탈 is done..!\n",
      "클래식 is done..!\n",
      "로맨틱 is done..!\n",
      "펑크 is done..!\n",
      "아방가르드 is done..!\n"
     ]
    }
   ],
   "source": [
    "import os\n",
    "import shutil\n",
    "import pandas as pd\n",
    "\n",
    "df = pd.read_csv('data/sampled_train_data.csv')\n",
    "col_names = df.columns.to_list()\n",
    "\n",
    "os.makedirs('img/clothes/')\n",
    "\n",
    "for i in col_names:\n",
    "    for j in os.listdir('img/'+i):\n",
    "        s_path = 'img/'+i+'/'+j\n",
    "        d_path = 'img/clothes/'+j\n",
    "        shutil.copyfile(s_path, d_path)\n",
    "        \n",
    "    print(f'{i} is done..!')"
   ]
  },
  {
   "cell_type": "code",
   "execution_count": 16,
   "metadata": {},
   "outputs": [
    {
     "data": {
      "text/plain": [
       "1110936"
      ]
     },
     "execution_count": 16,
     "metadata": {},
     "output_type": "execute_result"
    }
   ],
   "source": [
    "all_df = pd.read_csv('data/all_data.csv')\n",
    "all_df['data_num'][0]"
   ]
  },
  {
   "cell_type": "code",
   "execution_count": null,
   "metadata": {},
   "outputs": [],
   "source": [
    "part_df = pd.read_csv('data/part_by.csv')\n",
    "part_df[NAME][cnt_by_NAME[NAME]]"
   ]
  }
 ],
 "metadata": {
  "kernelspec": {
   "display_name": "kipi",
   "language": "python",
   "name": "python3"
  },
  "language_info": {
   "codemirror_mode": {
    "name": "ipython",
    "version": 3
   },
   "file_extension": ".py",
   "mimetype": "text/x-python",
   "name": "python",
   "nbconvert_exporter": "python",
   "pygments_lexer": "ipython3",
   "version": "3.8.16"
  },
  "orig_nbformat": 4
 },
 "nbformat": 4,
 "nbformat_minor": 2
}
