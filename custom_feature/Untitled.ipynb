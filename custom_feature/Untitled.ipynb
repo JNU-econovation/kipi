{
 "cells": [
  {
   "cell_type": "code",
   "execution_count": 1,
   "id": "87c1dab5",
   "metadata": {},
   "outputs": [],
   "source": [
    "import json"
   ]
  },
  {
   "cell_type": "code",
   "execution_count": 8,
   "id": "14e2b856",
   "metadata": {},
   "outputs": [],
   "source": [
    "with open('server_data.json', 'r') as f:\n",
    "    main_dict = json.load(f)"
   ]
  },
  {
   "cell_type": "code",
   "execution_count": 10,
   "id": "fe92278a",
   "metadata": {},
   "outputs": [
    {
     "data": {
      "text/plain": [
       "6724"
      ]
     },
     "execution_count": 10,
     "metadata": {},
     "output_type": "execute_result"
    }
   ],
   "source": [
    "len(main_dict['upper'].keys())"
   ]
  },
  {
   "cell_type": "code",
   "execution_count": null,
   "id": "8d8e779a",
   "metadata": {},
   "outputs": [],
   "source": []
  }
 ],
 "metadata": {
  "kernelspec": {
   "display_name": "torch1.10.0-py3.8-cuda11.3",
   "language": "python",
   "name": "torch1.10.0-py3.8-cuda11.3"
  },
  "language_info": {
   "codemirror_mode": {
    "name": "ipython",
    "version": 3
   },
   "file_extension": ".py",
   "mimetype": "text/x-python",
   "name": "python",
   "nbconvert_exporter": "python",
   "pygments_lexer": "ipython3",
   "version": "3.8.10"
  }
 },
 "nbformat": 4,
 "nbformat_minor": 5
}
